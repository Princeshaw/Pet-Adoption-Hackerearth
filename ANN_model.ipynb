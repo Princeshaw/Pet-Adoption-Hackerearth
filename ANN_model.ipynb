{
 "cells": [
  {
   "cell_type": "code",
   "execution_count": 24,
   "metadata": {},
   "outputs": [],
   "source": [
    "import pandas as pd\n",
    "import numpy as np\n",
    "import matplotlib.pyplot as plt\n",
    "import seaborn as sns\n",
    "import tensorflow as tf"
   ]
  },
  {
   "cell_type": "code",
   "execution_count": 25,
   "metadata": {},
   "outputs": [],
   "source": [
    "import pickle"
   ]
  },
  {
   "cell_type": "code",
   "execution_count": 26,
   "metadata": {},
   "outputs": [],
   "source": [
    "X_train = pickle.load(open('./dataset/X_train','rb'))\n",
    "y_train_breed = pickle.load(open('./dataset/y_train_breed','rb'))\n",
    "y_train_pet = pickle.load(open('./dataset/y_train_pet','rb'))\n",
    "test = pickle.load(open('./dataset/test_data','rb'))"
   ]
  },
  {
   "cell_type": "code",
   "execution_count": 27,
   "metadata": {},
   "outputs": [],
   "source": [
    "X_train = np.array(X_train)"
   ]
  },
  {
   "cell_type": "code",
   "execution_count": 28,
   "metadata": {},
   "outputs": [],
   "source": [
    "y_train_breed = np.array(y_train_breed)"
   ]
  },
  {
   "cell_type": "code",
   "execution_count": 29,
   "metadata": {},
   "outputs": [],
   "source": [
    "y_train_pet = np.array(y_train_pet)"
   ]
  },
  {
   "cell_type": "code",
   "execution_count": 30,
   "metadata": {},
   "outputs": [],
   "source": [
    "test = np.array(test)"
   ]
  },
  {
   "cell_type": "code",
   "execution_count": 31,
   "metadata": {},
   "outputs": [],
   "source": [
    "from sklearn.preprocessing import StandardScaler\n",
    "sc = StandardScaler()\n",
    "X_train[:,:4] = sc.fit_transform(X_train[:, :4])"
   ]
  },
  {
   "cell_type": "markdown",
   "metadata": {},
   "source": [
    "## breed"
   ]
  },
  {
   "cell_type": "code",
   "execution_count": null,
   "metadata": {},
   "outputs": [],
   "source": []
  },
  {
   "cell_type": "markdown",
   "metadata": {},
   "source": [
    "## Intialize ANN\n"
   ]
  },
  {
   "cell_type": "code",
   "execution_count": 45,
   "metadata": {},
   "outputs": [],
   "source": [
    "ann = tf.keras.models.Sequential()"
   ]
  },
  {
   "cell_type": "markdown",
   "metadata": {},
   "source": [
    "## Add input layer and first hidden layer"
   ]
  },
  {
   "cell_type": "code",
   "execution_count": 46,
   "metadata": {},
   "outputs": [],
   "source": [
    "ann.add(tf.keras.layers.Dense(units=6,activation='relu'))"
   ]
  },
  {
   "cell_type": "markdown",
   "metadata": {},
   "source": [
    "## add output layers\n"
   ]
  },
  {
   "cell_type": "code",
   "execution_count": 47,
   "metadata": {},
   "outputs": [],
   "source": [
    "ann.add(tf.keras.layers.Dense(units=1,activation='sigmoid'))"
   ]
  },
  {
   "cell_type": "code",
   "execution_count": 48,
   "metadata": {},
   "outputs": [],
   "source": [
    "ann.compile(optimizer = 'adam', loss = 'categorical_crossentropy',metrics=['accuracy'])"
   ]
  },
  {
   "cell_type": "code",
   "execution_count": 49,
   "metadata": {},
   "outputs": [
    {
     "name": "stdout",
     "output_type": "stream",
     "text": [
      "Train on 18834 samples\n",
      "Epoch 1/100\n",
      "18834/18834 [==============================] - 1s 44us/sample - loss: 7.1593e-08 - accuracy: 0.4815\n",
      "Epoch 2/100\n",
      "18834/18834 [==============================] - 1s 30us/sample - loss: 7.1593e-08 - accuracy: 0.4815\n",
      "Epoch 3/100\n",
      "18834/18834 [==============================] - 1s 31us/sample - loss: 7.1593e-08 - accuracy: 0.4815\n",
      "Epoch 4/100\n",
      "18834/18834 [==============================] - 1s 30us/sample - loss: 7.1593e-08 - accuracy: 0.4815\n",
      "Epoch 5/100\n",
      "18834/18834 [==============================] - 1s 31us/sample - loss: 7.1593e-08 - accuracy: 0.4815\n",
      "Epoch 6/100\n",
      "18834/18834 [==============================] - 1s 31us/sample - loss: 7.1593e-08 - accuracy: 0.4815\n",
      "Epoch 7/100\n",
      "18834/18834 [==============================] - 1s 33us/sample - loss: 7.1593e-08 - accuracy: 0.4815s - loss: 7.2278e-08 \n",
      "Epoch 8/100\n",
      "18834/18834 [==============================] - 1s 30us/sample - loss: 7.1593e-08 - accuracy: 0.4815\n",
      "Epoch 9/100\n",
      "18834/18834 [==============================] - 1s 32us/sample - loss: 7.1593e-08 - accuracy: 0.4815\n",
      "Epoch 10/100\n",
      "18834/18834 [==============================] - 1s 32us/sample - loss: 7.1593e-08 - accuracy: 0.4815\n",
      "Epoch 11/100\n",
      "18834/18834 [==============================] - 1s 32us/sample - loss: 7.1593e-08 - accuracy: 0.4815\n",
      "Epoch 12/100\n",
      "18834/18834 [==============================] - 1s 31us/sample - loss: 7.1593e-08 - accuracy: 0.4815\n",
      "Epoch 13/100\n",
      "18834/18834 [==============================] - 1s 32us/sample - loss: 7.1593e-08 - accuracy: 0.4815\n",
      "Epoch 14/100\n",
      "18834/18834 [==============================] - 1s 31us/sample - loss: 7.1593e-08 - accuracy: 0.4815\n",
      "Epoch 15/100\n",
      "18834/18834 [==============================] - 1s 32us/sample - loss: 7.1593e-08 - accuracy: 0.4815s - loss: 7.1509e-08 - accuracy: 0.\n",
      "Epoch 16/100\n",
      "18834/18834 [==============================] - 1s 32us/sample - loss: 7.1593e-08 - accuracy: 0.4815\n",
      "Epoch 17/100\n",
      "18834/18834 [==============================] - 1s 33us/sample - loss: 7.1593e-08 - accuracy: 0.4815\n",
      "Epoch 18/100\n",
      "18834/18834 [==============================] - 1s 31us/sample - loss: 7.1593e-08 - accuracy: 0.4815\n",
      "Epoch 19/100\n",
      "18834/18834 [==============================] - 1s 32us/sample - loss: 7.1593e-08 - accuracy: 0.4815\n",
      "Epoch 20/100\n",
      "18834/18834 [==============================] - 1s 30us/sample - loss: 7.1593e-08 - accuracy: 0.4815\n",
      "Epoch 21/100\n",
      "18834/18834 [==============================] - 1s 32us/sample - loss: 7.1593e-08 - accuracy: 0.4815\n",
      "Epoch 22/100\n",
      "18834/18834 [==============================] - 1s 31us/sample - loss: 7.1593e-08 - accuracy: 0.4815\n",
      "Epoch 23/100\n",
      "18834/18834 [==============================] - 1s 38us/sample - loss: 7.1593e-08 - accuracy: 0.4815\n",
      "Epoch 24/100\n",
      "18834/18834 [==============================] - 1s 33us/sample - loss: 7.1593e-08 - accuracy: 0.4815\n",
      "Epoch 25/100\n",
      "18834/18834 [==============================] - 1s 31us/sample - loss: 7.1593e-08 - accuracy: 0.4815\n",
      "Epoch 26/100\n",
      "18834/18834 [==============================] - 1s 31us/sample - loss: 7.1593e-08 - accuracy: 0.4815\n",
      "Epoch 27/100\n",
      "18834/18834 [==============================] - 1s 31us/sample - loss: 7.1593e-08 - accuracy: 0.4815\n",
      "Epoch 28/100\n",
      "18834/18834 [==============================] - 1s 32us/sample - loss: 7.1593e-08 - accuracy: 0.4815\n",
      "Epoch 29/100\n",
      "18834/18834 [==============================] - 1s 31us/sample - loss: 7.1593e-08 - accuracy: 0.4815\n",
      "Epoch 30/100\n",
      "18834/18834 [==============================] - 1s 31us/sample - loss: 7.1593e-08 - accuracy: 0.4815\n",
      "Epoch 31/100\n",
      "18834/18834 [==============================] - 1s 31us/sample - loss: 7.1593e-08 - accuracy: 0.4815\n",
      "Epoch 32/100\n",
      "18834/18834 [==============================] - 1s 31us/sample - loss: 7.1593e-08 - accuracy: 0.4815\n",
      "Epoch 33/100\n",
      "18834/18834 [==============================] - 1s 30us/sample - loss: 7.1593e-08 - accuracy: 0.4815\n",
      "Epoch 34/100\n",
      "18834/18834 [==============================] - 1s 32us/sample - loss: 7.1593e-08 - accuracy: 0.4815s - loss: 7.1988e-08 - ac\n",
      "Epoch 35/100\n",
      "18834/18834 [==============================] - 1s 31us/sample - loss: 7.1593e-08 - accuracy: 0.4815\n",
      "Epoch 36/100\n",
      "18834/18834 [==============================] - 1s 31us/sample - loss: 7.1593e-08 - accuracy: 0.4815\n",
      "Epoch 37/100\n",
      "18834/18834 [==============================] - 1s 31us/sample - loss: 7.1593e-08 - accuracy: 0.4815\n",
      "Epoch 38/100\n",
      "18834/18834 [==============================] - 1s 32us/sample - loss: 7.1593e-08 - accuracy: 0.4815\n",
      "Epoch 39/100\n",
      "18834/18834 [==============================] - 1s 31us/sample - loss: 7.1593e-08 - accuracy: 0.4815\n",
      "Epoch 40/100\n",
      "18834/18834 [==============================] - 1s 31us/sample - loss: 7.1593e-08 - accuracy: 0.4815\n",
      "Epoch 41/100\n",
      "18834/18834 [==============================] - 1s 31us/sample - loss: 7.1593e-08 - accuracy: 0.4815\n",
      "Epoch 42/100\n",
      "18834/18834 [==============================] - 1s 35us/sample - loss: 7.1593e-08 - accuracy: 0.4815\n",
      "Epoch 43/100\n",
      "18834/18834 [==============================] - 1s 35us/sample - loss: 7.1593e-08 - accuracy: 0.4815\n",
      "Epoch 44/100\n",
      "18834/18834 [==============================] - 1s 36us/sample - loss: 7.1593e-08 - accuracy: 0.4815\n",
      "Epoch 45/100\n",
      "18834/18834 [==============================] - 1s 34us/sample - loss: 7.1593e-08 - accuracy: 0.4815\n",
      "Epoch 46/100\n",
      "18834/18834 [==============================] - 1s 36us/sample - loss: 7.1593e-08 - accuracy: 0.4815\n",
      "Epoch 47/100\n",
      "18834/18834 [==============================] - 1s 35us/sample - loss: 7.1593e-08 - accuracy: 0.4815\n",
      "Epoch 48/100\n",
      "18834/18834 [==============================] - 1s 36us/sample - loss: 7.1593e-08 - accuracy: 0.4815\n",
      "Epoch 49/100\n",
      "18834/18834 [==============================] - 1s 43us/sample - loss: 7.1593e-08 - accuracy: 0.4815\n",
      "Epoch 50/100\n",
      "18834/18834 [==============================] - 1s 39us/sample - loss: 7.1593e-08 - accuracy: 0.4815\n",
      "Epoch 51/100\n",
      "18834/18834 [==============================] - 1s 37us/sample - loss: 7.1593e-08 - accuracy: 0.4815\n",
      "Epoch 52/100\n",
      "18834/18834 [==============================] - 1s 34us/sample - loss: 7.1593e-08 - accuracy: 0.4815\n",
      "Epoch 53/100\n",
      "18834/18834 [==============================] - 1s 38us/sample - loss: 7.1593e-08 - accuracy: 0.4815\n",
      "Epoch 54/100\n",
      "18834/18834 [==============================] - 1s 35us/sample - loss: 7.1593e-08 - accuracy: 0.4815\n",
      "Epoch 55/100\n",
      "18834/18834 [==============================] - 1s 35us/sample - loss: 7.1593e-08 - accuracy: 0.4815\n",
      "Epoch 56/100\n",
      "18834/18834 [==============================] - 1s 38us/sample - loss: 7.1593e-08 - accuracy: 0.4815\n",
      "Epoch 57/100\n",
      "18834/18834 [==============================] - 1s 35us/sample - loss: 7.1593e-08 - accuracy: 0.4815\n",
      "Epoch 58/100\n",
      "18834/18834 [==============================] - 1s 36us/sample - loss: 7.1593e-08 - accuracy: 0.4815\n",
      "Epoch 59/100\n",
      "18834/18834 [==============================] - 1s 35us/sample - loss: 7.1593e-08 - accuracy: 0.4815\n",
      "Epoch 60/100\n",
      "18834/18834 [==============================] - 1s 36us/sample - loss: 7.1593e-08 - accuracy: 0.4815\n",
      "Epoch 61/100\n",
      "18834/18834 [==============================] - 1s 36us/sample - loss: 7.1593e-08 - accuracy: 0.4815\n",
      "Epoch 62/100\n",
      "18834/18834 [==============================] - 1s 36us/sample - loss: 7.1593e-08 - accuracy: 0.4815\n",
      "Epoch 63/100\n",
      "18834/18834 [==============================] - 1s 37us/sample - loss: 7.1593e-08 - accuracy: 0.4815\n",
      "Epoch 64/100\n",
      "18834/18834 [==============================] - 1s 35us/sample - loss: 7.1593e-08 - accuracy: 0.4815\n",
      "Epoch 65/100\n",
      "18834/18834 [==============================] - 1s 37us/sample - loss: 7.1593e-08 - accuracy: 0.4815\n",
      "Epoch 66/100\n",
      "18834/18834 [==============================] - 1s 35us/sample - loss: 7.1593e-08 - accuracy: 0.4815\n",
      "Epoch 67/100\n",
      "18834/18834 [==============================] - 1s 37us/sample - loss: 7.1593e-08 - accuracy: 0.4815\n",
      "Epoch 68/100\n",
      "18834/18834 [==============================] - 1s 36us/sample - loss: 7.1593e-08 - accuracy: 0.4815\n",
      "Epoch 69/100\n",
      "18834/18834 [==============================] - 1s 36us/sample - loss: 7.1593e-08 - accuracy: 0.4815\n",
      "Epoch 70/100\n",
      "18834/18834 [==============================] - 1s 37us/sample - loss: 7.1593e-08 - accuracy: 0.4815\n",
      "Epoch 71/100\n",
      "18834/18834 [==============================] - 1s 35us/sample - loss: 7.1593e-08 - accuracy: 0.4815\n",
      "Epoch 72/100\n"
     ]
    },
    {
     "name": "stdout",
     "output_type": "stream",
     "text": [
      "18834/18834 [==============================] - 1s 42us/sample - loss: 7.1593e-08 - accuracy: 0.4815\n",
      "Epoch 73/100\n",
      "18834/18834 [==============================] - 1s 41us/sample - loss: 7.1593e-08 - accuracy: 0.4815\n",
      "Epoch 74/100\n",
      "18834/18834 [==============================] - 1s 36us/sample - loss: 7.1593e-08 - accuracy: 0.4815\n",
      "Epoch 75/100\n",
      "18834/18834 [==============================] - 1s 35us/sample - loss: 7.1593e-08 - accuracy: 0.4815\n",
      "Epoch 76/100\n",
      "18834/18834 [==============================] - 1s 34us/sample - loss: 7.1593e-08 - accuracy: 0.4815\n",
      "Epoch 77/100\n",
      "18834/18834 [==============================] - 1s 36us/sample - loss: 7.1593e-08 - accuracy: 0.4815\n",
      "Epoch 78/100\n",
      "18834/18834 [==============================] - 1s 34us/sample - loss: 7.1593e-08 - accuracy: 0.4815\n",
      "Epoch 79/100\n",
      "18834/18834 [==============================] - 1s 36us/sample - loss: 7.1593e-08 - accuracy: 0.4815\n",
      "Epoch 80/100\n",
      "18834/18834 [==============================] - 1s 34us/sample - loss: 7.1593e-08 - accuracy: 0.4815\n",
      "Epoch 81/100\n",
      "18834/18834 [==============================] - 1s 36us/sample - loss: 7.1593e-08 - accuracy: 0.4815\n",
      "Epoch 82/100\n",
      "18834/18834 [==============================] - 1s 35us/sample - loss: 7.1593e-08 - accuracy: 0.4815\n",
      "Epoch 83/100\n",
      "18834/18834 [==============================] - 1s 36us/sample - loss: 7.1593e-08 - accuracy: 0.4815\n",
      "Epoch 84/100\n",
      "18834/18834 [==============================] - 1s 35us/sample - loss: 7.1593e-08 - accuracy: 0.4815\n",
      "Epoch 85/100\n",
      "18834/18834 [==============================] - 1s 35us/sample - loss: 7.1593e-08 - accuracy: 0.4815\n",
      "Epoch 86/100\n",
      "18834/18834 [==============================] - 1s 36us/sample - loss: 7.1593e-08 - accuracy: 0.4815\n",
      "Epoch 87/100\n",
      "18834/18834 [==============================] - 1s 34us/sample - loss: 7.1593e-08 - accuracy: 0.4815\n",
      "Epoch 88/100\n",
      "18834/18834 [==============================] - 1s 36us/sample - loss: 7.1593e-08 - accuracy: 0.4815\n",
      "Epoch 89/100\n",
      "18834/18834 [==============================] - 1s 34us/sample - loss: 7.1593e-08 - accuracy: 0.4815\n",
      "Epoch 90/100\n",
      "18834/18834 [==============================] - 1s 35us/sample - loss: 7.1593e-08 - accuracy: 0.4815\n",
      "Epoch 91/100\n",
      "18834/18834 [==============================] - 1s 35us/sample - loss: 7.1593e-08 - accuracy: 0.4815\n",
      "Epoch 92/100\n",
      "18834/18834 [==============================] - 1s 35us/sample - loss: 7.1593e-08 - accuracy: 0.4815\n",
      "Epoch 93/100\n",
      "18834/18834 [==============================] - 1s 35us/sample - loss: 7.1593e-08 - accuracy: 0.4815\n",
      "Epoch 94/100\n",
      "18834/18834 [==============================] - 1s 35us/sample - loss: 7.1593e-08 - accuracy: 0.4815\n",
      "Epoch 95/100\n",
      "18834/18834 [==============================] - 1s 36us/sample - loss: 7.1593e-08 - accuracy: 0.4815\n",
      "Epoch 96/100\n",
      "18834/18834 [==============================] - 1s 43us/sample - loss: 7.1593e-08 - accuracy: 0.4815\n",
      "Epoch 97/100\n",
      "18834/18834 [==============================] - 1s 41us/sample - loss: 7.1593e-08 - accuracy: 0.4815\n",
      "Epoch 98/100\n",
      "18834/18834 [==============================] - 1s 36us/sample - loss: 7.1593e-08 - accuracy: 0.4815\n",
      "Epoch 99/100\n",
      "18834/18834 [==============================] - 1s 34us/sample - loss: 7.1593e-08 - accuracy: 0.4815\n",
      "Epoch 100/100\n",
      "18834/18834 [==============================] - 1s 36us/sample - loss: 7.1593e-08 - accuracy: 0.4815\n"
     ]
    },
    {
     "data": {
      "text/plain": [
       "<tensorflow.python.keras.callbacks.History at 0x2bca9d38a08>"
      ]
     },
     "execution_count": 49,
     "metadata": {},
     "output_type": "execute_result"
    }
   ],
   "source": [
    "ann.fit(X_train,y_train_breed, batch_size=32, epochs=100)"
   ]
  },
  {
   "cell_type": "code",
   "execution_count": 37,
   "metadata": {},
   "outputs": [],
   "source": [
    "test_breed = ann.predict(test)"
   ]
  },
  {
   "cell_type": "code",
   "execution_count": 50,
   "metadata": {},
   "outputs": [],
   "source": [
    "ann.add(tf.keras.layers.Dense(units=8,input_dim=4,activation='relu'))\n",
    "ann.add(tf.keras.layers.Dense(units=3,activation='softmax'))\n",
    "ann.compile(optimizer = 'adam', loss = 'categorical_crossentropy',metrics=['accuracy'])"
   ]
  },
  {
   "cell_type": "code",
   "execution_count": null,
   "metadata": {},
   "outputs": [
    {
     "name": "stdout",
     "output_type": "stream",
     "text": [
      "Train on 18834 samples\n",
      "Epoch 1/100\n",
      "18834/18834 [==============================] - 1s 54us/sample - loss: 5.8325 - accuracy: 0.0000e+00\n",
      "Epoch 2/100\n",
      "18834/18834 [==============================] - 1s 36us/sample - loss: 7.4156 - accuracy: 0.0000e+00\n",
      "Epoch 3/100\n",
      "18834/18834 [==============================] - 1s 37us/sample - loss: 9.1813 - accuracy: 0.0000e+00\n",
      "Epoch 4/100\n",
      "18834/18834 [==============================] - 1s 35us/sample - loss: 10.8411 - accuracy: 0.0000e+00\n",
      "Epoch 5/100\n",
      "18834/18834 [==============================] - 1s 36us/sample - loss: 12.4279 - accuracy: 0.0000e+00\n",
      "Epoch 6/100\n",
      "18834/18834 [==============================] - 1s 36us/sample - loss: 13.9723 - accuracy: 0.0000e+00\n",
      "Epoch 7/100\n",
      "18834/18834 [==============================] - 1s 37us/sample - loss: 15.4928 - accuracy: 0.0000e+00\n",
      "Epoch 8/100\n",
      "18834/18834 [==============================] - 1s 37us/sample - loss: 16.9904 - accuracy: 0.0000e+00\n",
      "Epoch 9/100\n",
      "18834/18834 [==============================] - 1s 36us/sample - loss: 18.4377 - accuracy: 0.0000e+00\n",
      "Epoch 10/100\n",
      "18834/18834 [==============================] - 1s 37us/sample - loss: 19.8335 - accuracy: 0.0000e+00\n",
      "Epoch 11/100\n",
      "18834/18834 [==============================] - 1s 36us/sample - loss: 21.2095 - accuracy: 0.0000e+00\n",
      "Epoch 12/100\n",
      "18834/18834 [==============================] - 1s 37us/sample - loss: 22.5292 - accuracy: 0.0000e+00\n",
      "Epoch 13/100\n",
      "18834/18834 [==============================] - 1s 38us/sample - loss: 23.8569 - accuracy: 0.0000e+00\n",
      "Epoch 14/100\n",
      "18834/18834 [==============================] - 1s 38us/sample - loss: 25.1310 - accuracy: 0.0000e+00\n",
      "Epoch 15/100\n",
      "18834/18834 [==============================] - 1s 37us/sample - loss: 26.3897 - accuracy: 0.0000e+00\n",
      "Epoch 16/100\n",
      "18834/18834 [==============================] - 1s 38us/sample - loss: 27.6343 - accuracy: 0.0000e+00\n",
      "Epoch 17/100\n",
      "18834/18834 [==============================] - 1s 37us/sample - loss: 28.8123 - accuracy: 0.0000e+00\n",
      "Epoch 18/100\n",
      "18834/18834 [==============================] - 1s 40us/sample - loss: 30.0105 - accuracy: 0.0000e+00\n",
      "Epoch 19/100\n",
      "18834/18834 [==============================] - 1s 43us/sample - loss: 31.1751 - accuracy: 0.0000e+00\n",
      "Epoch 20/100\n",
      "18834/18834 [==============================] - 1s 38us/sample - loss: 32.3257 - accuracy: 0.0000e+00\n",
      "Epoch 21/100\n",
      "18834/18834 [==============================] - 1s 37us/sample - loss: 33.4817 - accuracy: 0.0000e+00\n",
      "Epoch 22/100\n",
      "18834/18834 [==============================] - 1s 38us/sample - loss: 34.5251 - accuracy: 0.0000e+00\n",
      "Epoch 23/100\n",
      "18834/18834 [==============================] - 1s 36us/sample - loss: 35.6459 - accuracy: 0.0000e+00\n",
      "Epoch 24/100\n",
      "18834/18834 [==============================] - 1s 35us/sample - loss: 36.7133 - accuracy: 0.0000e+00\n",
      "Epoch 25/100\n",
      "18834/18834 [==============================] - 1s 38us/sample - loss: 37.7744 - accuracy: 0.0000e+00\n",
      "Epoch 26/100\n",
      "18834/18834 [==============================] - 1s 36us/sample - loss: 38.8772 - accuracy: 0.0000e+00\n",
      "Epoch 27/100\n",
      "18834/18834 [==============================] - 1s 38us/sample - loss: 39.8705 - accuracy: 0.0000e+00\n",
      "Epoch 28/100\n",
      "18834/18834 [==============================] - 1s 35us/sample - loss: 40.8650 - accuracy: 0.0000e+00\n",
      "Epoch 29/100\n",
      "18834/18834 [==============================] - 1s 37us/sample - loss: 41.8853 - accuracy: 0.0000e+00\n",
      "Epoch 30/100\n",
      "18834/18834 [==============================] - 1s 38us/sample - loss: 42.8433 - accuracy: 0.0000e+00\n",
      "Epoch 31/100\n",
      "18834/18834 [==============================] - 1s 42us/sample - loss: 43.7899 - accuracy: 0.0000e+00\n",
      "Epoch 32/100\n",
      "18834/18834 [==============================] - 1s 47us/sample - loss: 44.7573 - accuracy: 0.0000e+00\n",
      "Epoch 33/100\n",
      "18834/18834 [==============================] - 1s 43us/sample - loss: 45.6925 - accuracy: 0.0000e+00\n",
      "Epoch 34/100\n",
      "18834/18834 [==============================] - 1s 42us/sample - loss: 46.6844 - accuracy: 0.0000e+00\n",
      "Epoch 35/100\n",
      "18834/18834 [==============================] - 1s 43us/sample - loss: 47.5797 - accuracy: 0.0000e+00\n",
      "Epoch 36/100\n",
      "18834/18834 [==============================] - 1s 42us/sample - loss: 48.3885 - accuracy: 0.0000e+00\n",
      "Epoch 37/100\n",
      "18834/18834 [==============================] - 1s 44us/sample - loss: 49.2571 - accuracy: 0.0000e+00\n",
      "Epoch 38/100\n",
      "18834/18834 [==============================] - 1s 45us/sample - loss: 50.0508 - accuracy: 0.0000e+00\n",
      "Epoch 39/100\n",
      "18834/18834 [==============================] - 1s 49us/sample - loss: 50.9381 - accuracy: 0.0000e+00\n",
      "Epoch 40/100\n",
      "18834/18834 [==============================] - 1s 52us/sample - loss: 51.7973 - accuracy: 0.0000e+00\n",
      "Epoch 41/100\n",
      "18834/18834 [==============================] - 1s 45us/sample - loss: 52.5432 - accuracy: 0.0000e+00\n",
      "Epoch 42/100\n",
      "18834/18834 [==============================] - 1s 46us/sample - loss: 53.3337 - accuracy: 0.0000e+00\n",
      "Epoch 43/100\n",
      "18834/18834 [==============================] - 1s 46us/sample - loss: 54.0809 - accuracy: 0.0000e+00\n",
      "Epoch 44/100\n",
      "18834/18834 [==============================] - 1s 49us/sample - loss: 54.8948 - accuracy: 0.0000e+00\n",
      "Epoch 45/100\n",
      "18834/18834 [==============================] - 1s 50us/sample - loss: 55.6508 - accuracy: 0.0000e+00\n",
      "Epoch 46/100\n",
      "18834/18834 [==============================] - 1s 45us/sample - loss: 56.3475 - accuracy: 0.0000e+00\n",
      "Epoch 47/100\n",
      "18834/18834 [==============================] - 1s 44us/sample - loss: 57.0069 - accuracy: 0.0000e+00\n",
      "Epoch 48/100\n",
      "18834/18834 [==============================] - 1s 44us/sample - loss: 57.8088 - accuracy: 0.0000e+00\n",
      "Epoch 49/100\n",
      "18834/18834 [==============================] - 1s 44us/sample - loss: 58.4686 - accuracy: 0.0000e+00\n",
      "Epoch 50/100\n",
      "18834/18834 [==============================] - 1s 45us/sample - loss: 59.1941 - accuracy: 0.0000e+00\n",
      "Epoch 51/100\n",
      "18834/18834 [==============================] - 1s 51us/sample - loss: 59.8136 - accuracy: 0.0000e+00\n",
      "Epoch 52/100\n",
      "18834/18834 [==============================] - 1s 41us/sample - loss: 60.4945 - accuracy: 0.0000e+00\n",
      "Epoch 53/100\n",
      "18834/18834 [==============================] - 1s 39us/sample - loss: 61.2139 - accuracy: 0.0000e+00\n",
      "Epoch 54/100\n",
      "18834/18834 [==============================] - 1s 43us/sample - loss: 61.8446 - accuracy: 0.0000e+00\n",
      "Epoch 55/100\n",
      "18834/18834 [==============================] - 1s 43us/sample - loss: 62.4373 - accuracy: 0.0000e+00\n",
      "Epoch 56/100\n",
      "18834/18834 [==============================] - 1s 38us/sample - loss: 62.9451 - accuracy: 0.0000e+00\n",
      "Epoch 57/100\n",
      "18834/18834 [==============================] - 1s 38us/sample - loss: 63.5335 - accuracy: 0.0000e+00\n",
      "Epoch 58/100\n",
      "18834/18834 [==============================] - 1s 40us/sample - loss: 64.1215 - accuracy: 0.0000e+00\n",
      "Epoch 59/100\n",
      "18834/18834 [==============================] - 1s 47us/sample - loss: 64.7305 - accuracy: 0.0000e+00\n",
      "Epoch 60/100\n",
      "18834/18834 [==============================] - 1s 39us/sample - loss: 65.2853 - accuracy: 0.0000e+00\n",
      "Epoch 61/100\n",
      "18834/18834 [==============================] - 1s 37us/sample - loss: 65.8412 - accuracy: 0.0000e+00\n",
      "Epoch 62/100\n",
      "18834/18834 [==============================] - 1s 39us/sample - loss: 66.3107 - accuracy: 0.0000e+00\n",
      "Epoch 63/100\n",
      "18834/18834 [==============================] - 1s 38us/sample - loss: 66.7637 - accuracy: 0.0000e+00\n",
      "Epoch 64/100\n",
      "18834/18834 [==============================] - 1s 39us/sample - loss: 67.2769 - accuracy: 0.0000e+00\n",
      "Epoch 65/100\n",
      "18834/18834 [==============================] - 1s 40us/sample - loss: 67.6365 - accuracy: 0.0000e+00\n",
      "Epoch 66/100\n",
      "18834/18834 [==============================] - 1s 39us/sample - loss: 68.1283 - accuracy: 0.0000e+00\n",
      "Epoch 67/100\n",
      "18834/18834 [==============================] - 1s 41us/sample - loss: 68.5590 - accuracy: 0.0000e+00\n",
      "Epoch 68/100\n",
      "18834/18834 [==============================] - 1s 37us/sample - loss: 69.0926 - accuracy: 0.0000e+00\n",
      "Epoch 69/100\n",
      " 2400/18834 [==>...........................] - ETA: 0s - loss: 69.9777 - accuracy: 0.0000e+0"
     ]
    }
   ],
   "source": [
    "ann.fit(X_train,y_train_pet, batch_size=32, epochs=100)"
   ]
  },
  {
   "cell_type": "code",
   "execution_count": 42,
   "metadata": {},
   "outputs": [
    {
     "data": {
      "text/plain": [
       "array([1., 2., 4., ..., 1., 2., 2.])"
      ]
     },
     "execution_count": 42,
     "metadata": {},
     "output_type": "execute_result"
    }
   ],
   "source": [
    "y_train_pet"
   ]
  },
  {
   "cell_type": "code",
   "execution_count": null,
   "metadata": {},
   "outputs": [],
   "source": []
  }
 ],
 "metadata": {
  "kernelspec": {
   "display_name": "Python 3",
   "language": "python",
   "name": "python3"
  },
  "language_info": {
   "codemirror_mode": {
    "name": "ipython",
    "version": 3
   },
   "file_extension": ".py",
   "mimetype": "text/x-python",
   "name": "python",
   "nbconvert_exporter": "python",
   "pygments_lexer": "ipython3",
   "version": "3.7.7"
  }
 },
 "nbformat": 4,
 "nbformat_minor": 4
}
